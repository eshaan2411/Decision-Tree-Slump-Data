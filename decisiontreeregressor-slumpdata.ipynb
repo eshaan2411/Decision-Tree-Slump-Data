{
 "cells": [
  {
   "cell_type": "code",
   "execution_count": 90,
   "metadata": {
    "_cell_guid": "b1076dfc-b9ad-4769-8c92-a6c4dae69d19",
    "_uuid": "8f2839f25d086af736a60e9eeb907d3b93b6e0e5",
    "execution": {
     "iopub.execute_input": "2021-05-29T16:00:34.478085Z",
     "iopub.status.busy": "2021-05-29T16:00:34.477711Z",
     "iopub.status.idle": "2021-05-29T16:00:34.490394Z",
     "shell.execute_reply": "2021-05-29T16:00:34.489482Z",
     "shell.execute_reply.started": "2021-05-29T16:00:34.478051Z"
    }
   },
   "outputs": [
    {
     "name": "stdout",
     "output_type": "stream",
     "text": [
      "/kaggle/input/concrete-data/concrete.csv\n"
     ]
    }
   ],
   "source": [
    "# This Python 3 environment comes with many helpful analytics libraries installed\n",
    "# It is defined by the kaggle/python Docker image: https://github.com/kaggle/docker-python\n",
    "# For example, here's several helpful packages to load\n",
    "\n",
    "import numpy as np # linear algebra\n",
    "import pandas as pd # data processing, CSV file I/O (e.g. pd.read_csv)\n",
    "\n",
    "# Input data files are available in the read-only \"../input/\" directory\n",
    "# For example, running this (by clicking run or pressing Shift+Enter) will list all files under the input directory\n",
    "\n",
    "import os\n",
    "for dirname, _, filenames in os.walk('/kaggle/input'):\n",
    "    for filename in filenames:\n",
    "        print(os.path.join(dirname, filename))\n",
    "\n",
    "# You can write up to 20GB to the current directory (/kaggle/working/) that gets preserved as output when you create a version using \"Save & Run All\" \n",
    "# You can also write temporary files to /kaggle/temp/, but they won't be saved outside of the current session"
   ]
  },
  {
   "cell_type": "code",
   "execution_count": 91,
   "metadata": {
    "execution": {
     "iopub.execute_input": "2021-05-29T16:00:36.921699Z",
     "iopub.status.busy": "2021-05-29T16:00:36.921366Z",
     "iopub.status.idle": "2021-05-29T16:00:36.929500Z",
     "shell.execute_reply": "2021-05-29T16:00:36.928321Z",
     "shell.execute_reply.started": "2021-05-29T16:00:36.921661Z"
    }
   },
   "outputs": [
    {
     "name": "stdout",
     "output_type": "stream",
     "text": [
      "Setup Complete\n"
     ]
    }
   ],
   "source": [
    "import pandas as pd\n",
    "from matplotlib import pyplot as plt\n",
    "import seaborn as sb\n",
    "%matplotlib inline\n",
    "sb.set_style('whitegrid')\n",
    "print(\"Setup Complete\")"
   ]
  },
  {
   "cell_type": "code",
   "execution_count": 92,
   "metadata": {
    "execution": {
     "iopub.execute_input": "2021-05-29T16:00:39.155107Z",
     "iopub.status.busy": "2021-05-29T16:00:39.154789Z",
     "iopub.status.idle": "2021-05-29T16:00:39.192268Z",
     "shell.execute_reply": "2021-05-29T16:00:39.191425Z",
     "shell.execute_reply.started": "2021-05-29T16:00:39.155081Z"
    }
   },
   "outputs": [
    {
     "data": {
      "text/html": [
       "<div>\n",
       "<style scoped>\n",
       "    .dataframe tbody tr th:only-of-type {\n",
       "        vertical-align: middle;\n",
       "    }\n",
       "\n",
       "    .dataframe tbody tr th {\n",
       "        vertical-align: top;\n",
       "    }\n",
       "\n",
       "    .dataframe thead th {\n",
       "        text-align: right;\n",
       "    }\n",
       "</style>\n",
       "<table border=\"1\" class=\"dataframe\">\n",
       "  <thead>\n",
       "    <tr style=\"text-align: right;\">\n",
       "      <th></th>\n",
       "      <th>cement</th>\n",
       "      <th>slag</th>\n",
       "      <th>ash</th>\n",
       "      <th>water</th>\n",
       "      <th>superplastic</th>\n",
       "      <th>coarseagg</th>\n",
       "      <th>fineagg</th>\n",
       "      <th>age</th>\n",
       "      <th>strength</th>\n",
       "    </tr>\n",
       "  </thead>\n",
       "  <tbody>\n",
       "    <tr>\n",
       "      <th>0</th>\n",
       "      <td>141.3</td>\n",
       "      <td>212.0</td>\n",
       "      <td>0.0</td>\n",
       "      <td>203.5</td>\n",
       "      <td>0.0</td>\n",
       "      <td>971.8</td>\n",
       "      <td>748.5</td>\n",
       "      <td>28</td>\n",
       "      <td>29.89</td>\n",
       "    </tr>\n",
       "    <tr>\n",
       "      <th>1</th>\n",
       "      <td>168.9</td>\n",
       "      <td>42.2</td>\n",
       "      <td>124.3</td>\n",
       "      <td>158.3</td>\n",
       "      <td>10.8</td>\n",
       "      <td>1080.8</td>\n",
       "      <td>796.2</td>\n",
       "      <td>14</td>\n",
       "      <td>23.51</td>\n",
       "    </tr>\n",
       "    <tr>\n",
       "      <th>2</th>\n",
       "      <td>250.0</td>\n",
       "      <td>0.0</td>\n",
       "      <td>95.7</td>\n",
       "      <td>187.4</td>\n",
       "      <td>5.5</td>\n",
       "      <td>956.9</td>\n",
       "      <td>861.2</td>\n",
       "      <td>28</td>\n",
       "      <td>29.22</td>\n",
       "    </tr>\n",
       "    <tr>\n",
       "      <th>3</th>\n",
       "      <td>266.0</td>\n",
       "      <td>114.0</td>\n",
       "      <td>0.0</td>\n",
       "      <td>228.0</td>\n",
       "      <td>0.0</td>\n",
       "      <td>932.0</td>\n",
       "      <td>670.0</td>\n",
       "      <td>28</td>\n",
       "      <td>45.85</td>\n",
       "    </tr>\n",
       "    <tr>\n",
       "      <th>4</th>\n",
       "      <td>154.8</td>\n",
       "      <td>183.4</td>\n",
       "      <td>0.0</td>\n",
       "      <td>193.3</td>\n",
       "      <td>9.1</td>\n",
       "      <td>1047.4</td>\n",
       "      <td>696.7</td>\n",
       "      <td>28</td>\n",
       "      <td>18.29</td>\n",
       "    </tr>\n",
       "    <tr>\n",
       "      <th>...</th>\n",
       "      <td>...</td>\n",
       "      <td>...</td>\n",
       "      <td>...</td>\n",
       "      <td>...</td>\n",
       "      <td>...</td>\n",
       "      <td>...</td>\n",
       "      <td>...</td>\n",
       "      <td>...</td>\n",
       "      <td>...</td>\n",
       "    </tr>\n",
       "    <tr>\n",
       "      <th>1025</th>\n",
       "      <td>135.0</td>\n",
       "      <td>0.0</td>\n",
       "      <td>166.0</td>\n",
       "      <td>180.0</td>\n",
       "      <td>10.0</td>\n",
       "      <td>961.0</td>\n",
       "      <td>805.0</td>\n",
       "      <td>28</td>\n",
       "      <td>13.29</td>\n",
       "    </tr>\n",
       "    <tr>\n",
       "      <th>1026</th>\n",
       "      <td>531.3</td>\n",
       "      <td>0.0</td>\n",
       "      <td>0.0</td>\n",
       "      <td>141.8</td>\n",
       "      <td>28.2</td>\n",
       "      <td>852.1</td>\n",
       "      <td>893.7</td>\n",
       "      <td>3</td>\n",
       "      <td>41.30</td>\n",
       "    </tr>\n",
       "    <tr>\n",
       "      <th>1027</th>\n",
       "      <td>276.4</td>\n",
       "      <td>116.0</td>\n",
       "      <td>90.3</td>\n",
       "      <td>179.6</td>\n",
       "      <td>8.9</td>\n",
       "      <td>870.1</td>\n",
       "      <td>768.3</td>\n",
       "      <td>28</td>\n",
       "      <td>44.28</td>\n",
       "    </tr>\n",
       "    <tr>\n",
       "      <th>1028</th>\n",
       "      <td>342.0</td>\n",
       "      <td>38.0</td>\n",
       "      <td>0.0</td>\n",
       "      <td>228.0</td>\n",
       "      <td>0.0</td>\n",
       "      <td>932.0</td>\n",
       "      <td>670.0</td>\n",
       "      <td>270</td>\n",
       "      <td>55.06</td>\n",
       "    </tr>\n",
       "    <tr>\n",
       "      <th>1029</th>\n",
       "      <td>540.0</td>\n",
       "      <td>0.0</td>\n",
       "      <td>0.0</td>\n",
       "      <td>173.0</td>\n",
       "      <td>0.0</td>\n",
       "      <td>1125.0</td>\n",
       "      <td>613.0</td>\n",
       "      <td>7</td>\n",
       "      <td>52.61</td>\n",
       "    </tr>\n",
       "  </tbody>\n",
       "</table>\n",
       "<p>1030 rows × 9 columns</p>\n",
       "</div>"
      ],
      "text/plain": [
       "      cement   slag    ash  water  superplastic  coarseagg  fineagg  age  \\\n",
       "0      141.3  212.0    0.0  203.5           0.0      971.8    748.5   28   \n",
       "1      168.9   42.2  124.3  158.3          10.8     1080.8    796.2   14   \n",
       "2      250.0    0.0   95.7  187.4           5.5      956.9    861.2   28   \n",
       "3      266.0  114.0    0.0  228.0           0.0      932.0    670.0   28   \n",
       "4      154.8  183.4    0.0  193.3           9.1     1047.4    696.7   28   \n",
       "...      ...    ...    ...    ...           ...        ...      ...  ...   \n",
       "1025   135.0    0.0  166.0  180.0          10.0      961.0    805.0   28   \n",
       "1026   531.3    0.0    0.0  141.8          28.2      852.1    893.7    3   \n",
       "1027   276.4  116.0   90.3  179.6           8.9      870.1    768.3   28   \n",
       "1028   342.0   38.0    0.0  228.0           0.0      932.0    670.0  270   \n",
       "1029   540.0    0.0    0.0  173.0           0.0     1125.0    613.0    7   \n",
       "\n",
       "      strength  \n",
       "0        29.89  \n",
       "1        23.51  \n",
       "2        29.22  \n",
       "3        45.85  \n",
       "4        18.29  \n",
       "...        ...  \n",
       "1025     13.29  \n",
       "1026     41.30  \n",
       "1027     44.28  \n",
       "1028     55.06  \n",
       "1029     52.61  \n",
       "\n",
       "[1030 rows x 9 columns]"
      ]
     },
     "execution_count": 92,
     "metadata": {},
     "output_type": "execute_result"
    }
   ],
   "source": [
    "slump_data = pd.read_csv(\"../input/concrete-data/concrete.csv\")\n",
    "slump_data"
   ]
  },
  {
   "cell_type": "code",
   "execution_count": 93,
   "metadata": {
    "execution": {
     "iopub.execute_input": "2021-05-29T16:00:40.971789Z",
     "iopub.status.busy": "2021-05-29T16:00:40.971442Z",
     "iopub.status.idle": "2021-05-29T16:00:40.977616Z",
     "shell.execute_reply": "2021-05-29T16:00:40.976821Z",
     "shell.execute_reply.started": "2021-05-29T16:00:40.971761Z"
    }
   },
   "outputs": [
    {
     "data": {
      "text/plain": [
       "(1030, 9)"
      ]
     },
     "execution_count": 93,
     "metadata": {},
     "output_type": "execute_result"
    }
   ],
   "source": [
    "slump_data.shape"
   ]
  },
  {
   "cell_type": "code",
   "execution_count": 94,
   "metadata": {
    "execution": {
     "iopub.execute_input": "2021-05-29T16:00:42.371189Z",
     "iopub.status.busy": "2021-05-29T16:00:42.370832Z",
     "iopub.status.idle": "2021-05-29T16:00:42.382693Z",
     "shell.execute_reply": "2021-05-29T16:00:42.381654Z",
     "shell.execute_reply.started": "2021-05-29T16:00:42.371164Z"
    }
   },
   "outputs": [
    {
     "name": "stdout",
     "output_type": "stream",
     "text": [
      "Training Set : 824\n",
      "Testing Set : 206\n",
      "Total Size : 1030\n"
     ]
    }
   ],
   "source": [
    "from sklearn.tree import DecisionTreeRegressor\n",
    "from sklearn.metrics import mean_squared_error, r2_score\n",
    "from sklearn.model_selection import train_test_split\n",
    "\n",
    "features = ['cement', 'slag', 'ash', 'water', 'superplastic', 'coarseagg', 'fineagg', 'age']\n",
    "X = slump_data[features]\n",
    "y = slump_data.strength\n",
    "train_X, val_X, train_y, val_y = train_test_split(X, y, train_size=0.8, random_state=1)\n",
    "print(\"Training Set :\", len(train_X))\n",
    "print(\"Testing Set :\", len(val_X))\n",
    "print(\"Total Size :\", len(slump_data))"
   ]
  },
  {
   "cell_type": "code",
   "execution_count": 95,
   "metadata": {
    "execution": {
     "iopub.execute_input": "2021-05-29T16:00:43.946051Z",
     "iopub.status.busy": "2021-05-29T16:00:43.945655Z",
     "iopub.status.idle": "2021-05-29T16:00:44.056943Z",
     "shell.execute_reply": "2021-05-29T16:00:44.055867Z",
     "shell.execute_reply.started": "2021-05-29T16:00:43.946021Z"
    }
   },
   "outputs": [
    {
     "name": "stdout",
     "output_type": "stream",
     "text": [
      "Leaf Nodes : 5\n",
      "RMSE : 133.4806961665535\n",
      "Score : 0.5467074735973101\n",
      "R2_Score : 0.5467074735973101\n",
      "\n",
      "\n",
      "Leaf Nodes : 105\n",
      "RMSE : 49.86492202011132\n",
      "Score : 0.8306616826963091\n",
      "R2_Score : 0.8306616826963091\n",
      "\n",
      "\n",
      "Leaf Nodes : 205\n",
      "RMSE : 42.91400793831242\n",
      "Score : 0.8542665746052873\n",
      "R2_Score : 0.8542665746052873\n",
      "\n",
      "\n",
      "Leaf Nodes : 305\n",
      "RMSE : 42.70548168398481\n",
      "Score : 0.8549747173956689\n",
      "R2_Score : 0.8549747173956689\n",
      "\n",
      "\n",
      "Leaf Nodes : 405\n",
      "RMSE : 42.597728994365966\n",
      "Score : 0.8553406391379639\n",
      "R2_Score : 0.8553406391379639\n",
      "\n",
      "\n",
      "Leaf Nodes : 505\n",
      "RMSE : 42.97157312065198\n",
      "Score : 0.8540710866607012\n",
      "R2_Score : 0.8540710866607012\n",
      "\n",
      "\n",
      "Leaf Nodes : 605\n",
      "RMSE : 42.52976983518536\n",
      "Score : 0.8555714244113546\n",
      "R2_Score : 0.8555714244113546\n",
      "\n",
      "\n",
      "Leaf Nodes : 705\n",
      "RMSE : 42.372092044228694\n",
      "Score : 0.8561068888363466\n",
      "R2_Score : 0.8561068888363466\n",
      "\n",
      "\n",
      "Leaf Nodes : 805\n",
      "RMSE : 42.37335533980582\n",
      "Score : 0.8561025987595025\n",
      "R2_Score : 0.8561025987595025\n",
      "\n",
      "\n",
      "Leaf Nodes : 905\n",
      "RMSE : 42.37335533980582\n",
      "Score : 0.8561025987595025\n",
      "R2_Score : 0.8561025987595025\n",
      "\n",
      "\n"
     ]
    }
   ],
   "source": [
    "def test(sent_leaf_nodes, train_X, val_X, train_y, val_y):\n",
    "    model = DecisionTreeRegressor(max_leaf_nodes=sent_leaf_nodes, random_state=1)\n",
    "    model.fit(train_X, train_y)\n",
    "    val_predictions = model.predict(val_X)\n",
    "    print(\"RMSE :\", mean_squared_error(val_y, val_predictions))\n",
    "    print(\"Score :\", model.score(val_X, val_y))\n",
    "    print(\"R2_Score :\", r2_score(val_y, val_predictions))\n",
    "    \n",
    "test_nodes = [i for i in range(5,1000,100)]\n",
    "for sent_nodes in test_nodes:\n",
    "    print(\"Leaf Nodes :\", sent_nodes)\n",
    "    test(sent_nodes, train_X, val_X, train_y, val_y)\n",
    "    print(\"\\n\")"
   ]
  },
  {
   "cell_type": "code",
   "execution_count": 132,
   "metadata": {
    "execution": {
     "iopub.execute_input": "2021-05-29T16:15:55.451860Z",
     "iopub.status.busy": "2021-05-29T16:15:55.451482Z",
     "iopub.status.idle": "2021-05-29T16:15:55.470631Z",
     "shell.execute_reply": "2021-05-29T16:15:55.469783Z",
     "shell.execute_reply.started": "2021-05-29T16:15:55.451827Z"
    }
   },
   "outputs": [
    {
     "name": "stdout",
     "output_type": "stream",
     "text": [
      "(206,)\n",
      "(206,)\n",
      "{'ccp_alpha': 0.0, 'criterion': 'mse', 'max_depth': None, 'max_features': None, 'max_leaf_nodes': None, 'min_impurity_decrease': 0.0, 'min_impurity_split': None, 'min_samples_leaf': 1, 'min_samples_split': 2, 'min_weight_fraction_leaf': 0.0, 'random_state': 1, 'splitter': 'best'}\n"
     ]
    },
    {
     "data": {
      "text/plain": [
       "0.8704391080079129"
      ]
     },
     "execution_count": 132,
     "metadata": {},
     "output_type": "execute_result"
    }
   ],
   "source": [
    "model = DecisionTreeRegressor(random_state=1)\n",
    "model.fit(train_X, train_y)\n",
    "val_predictions = model.predict(val_X)\n",
    "print(val_X.cement.shape)\n",
    "print(val_predictions.shape)\n",
    "print(model.get_params())\n",
    "r2_score(val_y, val_predictions)"
   ]
  },
  {
   "cell_type": "code",
   "execution_count": 133,
   "metadata": {
    "execution": {
     "iopub.execute_input": "2021-05-29T16:15:57.089839Z",
     "iopub.status.busy": "2021-05-29T16:15:57.089491Z",
     "iopub.status.idle": "2021-05-29T16:15:57.297586Z",
     "shell.execute_reply": "2021-05-29T16:15:57.296839Z",
     "shell.execute_reply.started": "2021-05-29T16:15:57.089807Z"
    }
   },
   "outputs": [
    {
     "data": {
      "image/png": "[encoded data removed]",
      "text/plain": [
       "<Figure size 1152x576 with 1 Axes>"
      ]
     },
     "metadata": {},
     "output_type": "display_data"
    }
   ],
   "source": [
    "plt.figure(figsize=(16,8))\n",
    "plt.title('Training Set with feature Cement Ratio VS Strength')\n",
    "plt.scatter(train_X.cement, train_y, color='red', marker=\"+\")\n",
    "plt.xlabel('Cement Ratio')\n",
    "plt.ylabel('Strength')\n",
    "plt.show()"
   ]
  },
  {
   "cell_type": "code",
   "execution_count": 141,
   "metadata": {
    "execution": {
     "iopub.execute_input": "2021-05-29T16:19:59.680424Z",
     "iopub.status.busy": "2021-05-29T16:19:59.680092Z",
     "iopub.status.idle": "2021-05-29T16:19:59.696011Z",
     "shell.execute_reply": "2021-05-29T16:19:59.695186Z",
     "shell.execute_reply.started": "2021-05-29T16:19:59.680397Z"
    }
   },
   "outputs": [
    {
     "data": {
      "text/html": [
       "<div>\n",
       "<style scoped>\n",
       "    .dataframe tbody tr th:only-of-type {\n",
       "        vertical-align: middle;\n",
       "    }\n",
       "\n",
       "    .dataframe tbody tr th {\n",
       "        vertical-align: top;\n",
       "    }\n",
       "\n",
       "    .dataframe thead th {\n",
       "        text-align: right;\n",
       "    }\n",
       "</style>\n",
       "<table border=\"1\" class=\"dataframe\">\n",
       "  <thead>\n",
       "    <tr style=\"text-align: right;\">\n",
       "      <th></th>\n",
       "      <th>Actual Strength</th>\n",
       "      <th>Predicted Strength</th>\n",
       "    </tr>\n",
       "  </thead>\n",
       "  <tbody>\n",
       "    <tr>\n",
       "      <th>0</th>\n",
       "      <td>47.78</td>\n",
       "      <td>39.70</td>\n",
       "    </tr>\n",
       "    <tr>\n",
       "      <th>1</th>\n",
       "      <td>48.79</td>\n",
       "      <td>48.85</td>\n",
       "    </tr>\n",
       "    <tr>\n",
       "      <th>2</th>\n",
       "      <td>33.70</td>\n",
       "      <td>38.60</td>\n",
       "    </tr>\n",
       "    <tr>\n",
       "      <th>3</th>\n",
       "      <td>18.28</td>\n",
       "      <td>18.29</td>\n",
       "    </tr>\n",
       "    <tr>\n",
       "      <th>4</th>\n",
       "      <td>14.99</td>\n",
       "      <td>17.24</td>\n",
       "    </tr>\n",
       "    <tr>\n",
       "      <th>5</th>\n",
       "      <td>24.92</td>\n",
       "      <td>25.69</td>\n",
       "    </tr>\n",
       "    <tr>\n",
       "      <th>6</th>\n",
       "      <td>55.90</td>\n",
       "      <td>44.90</td>\n",
       "    </tr>\n",
       "    <tr>\n",
       "      <th>7</th>\n",
       "      <td>65.20</td>\n",
       "      <td>64.30</td>\n",
       "    </tr>\n",
       "    <tr>\n",
       "      <th>8</th>\n",
       "      <td>16.50</td>\n",
       "      <td>16.50</td>\n",
       "    </tr>\n",
       "    <tr>\n",
       "      <th>9</th>\n",
       "      <td>25.57</td>\n",
       "      <td>27.22</td>\n",
       "    </tr>\n",
       "    <tr>\n",
       "      <th>10</th>\n",
       "      <td>35.76</td>\n",
       "      <td>37.23</td>\n",
       "    </tr>\n",
       "    <tr>\n",
       "      <th>11</th>\n",
       "      <td>7.84</td>\n",
       "      <td>11.17</td>\n",
       "    </tr>\n",
       "    <tr>\n",
       "      <th>12</th>\n",
       "      <td>40.93</td>\n",
       "      <td>40.93</td>\n",
       "    </tr>\n",
       "    <tr>\n",
       "      <th>13</th>\n",
       "      <td>30.96</td>\n",
       "      <td>19.77</td>\n",
       "    </tr>\n",
       "    <tr>\n",
       "      <th>14</th>\n",
       "      <td>45.37</td>\n",
       "      <td>44.14</td>\n",
       "    </tr>\n",
       "  </tbody>\n",
       "</table>\n",
       "</div>"
      ],
      "text/plain": [
       "    Actual Strength  Predicted Strength\n",
       "0             47.78               39.70\n",
       "1             48.79               48.85\n",
       "2             33.70               38.60\n",
       "3             18.28               18.29\n",
       "4             14.99               17.24\n",
       "5             24.92               25.69\n",
       "6             55.90               44.90\n",
       "7             65.20               64.30\n",
       "8             16.50               16.50\n",
       "9             25.57               27.22\n",
       "10            35.76               37.23\n",
       "11             7.84               11.17\n",
       "12            40.93               40.93\n",
       "13            30.96               19.77\n",
       "14            45.37               44.14"
      ]
     },
     "execution_count": 141,
     "metadata": {},
     "output_type": "execute_result"
    }
   ],
   "source": [
    "actual_predicted = pd.DataFrame({'Actual Strength':[i for i in val_y], \n",
    "                                 'Predicted Strength' : [i for i in val_predictions]})\n",
    "actual_predicted.head(15)"
   ]
  },
  {
   "cell_type": "code",
   "execution_count": 136,
   "metadata": {
    "execution": {
     "iopub.execute_input": "2021-05-29T16:16:52.199140Z",
     "iopub.status.busy": "2021-05-29T16:16:52.198734Z",
     "iopub.status.idle": "2021-05-29T16:16:52.458373Z",
     "shell.execute_reply": "2021-05-29T16:16:52.457456Z",
     "shell.execute_reply.started": "2021-05-29T16:16:52.199070Z"
    }
   },
   "outputs": [
    {
     "name": "stdout",
     "output_type": "stream",
     "text": [
      "206\n",
      "206\n"
     ]
    },
    {
     "data": {
      "image/png": "[encoded data removed]",
      "text/plain": [
       "<Figure size 1152x576 with 1 Axes>"
      ]
     },
     "metadata": {},
     "output_type": "display_data"
    }
   ],
   "source": [
    "import numpy as np\n",
    "plt.figure(figsize=(16,8))\n",
    "plt.title('Testing Set')\n",
    "sb.scatterplot(x=val_X.cement, y=val_y, color='red')\n",
    "\n",
    "#Plotting the DecisionTreeRegressor\n",
    "X_grid = np.sort(val_X.cement)\n",
    "print(X_grid.size)\n",
    "print(val_predictions.size)\n",
    "plt.plot(X_grid, val_predictions, color='yellow', label='Prediction line')\n",
    "\n",
    "plt.xlabel('Cement Ratio')\n",
    "plt.ylabel('Strength')\n",
    "plt.legend()\n",
    "plt.show()"
   ]
  },
  {
   "cell_type": "code",
   "execution_count": 123,
   "metadata": {
    "execution": {
     "iopub.execute_input": "2021-05-29T16:13:13.810262Z",
     "iopub.status.busy": "2021-05-29T16:13:13.809936Z",
     "iopub.status.idle": "2021-05-29T16:13:14.215821Z",
     "shell.execute_reply": "2021-05-29T16:13:14.214761Z",
     "shell.execute_reply.started": "2021-05-29T16:13:13.810235Z"
    }
   },
   "outputs": [
    {
     "data": {
      "text/plain": [
       "0.9193309057162352"
      ]
     },
     "execution_count": 123,
     "metadata": {},
     "output_type": "execute_result"
    }
   ],
   "source": [
    "from sklearn.ensemble import RandomForestRegressor\n",
    "model = RandomForestRegressor(random_state=1)\n",
    "model.fit(train_X, train_y)\n",
    "rf_predictions = model.predict(val_X)\n",
    "r2_score(val_y, rf_predictions)"
   ]
  }
 ],
 "metadata": {
  "kernelspec": {
   "display_name": "Python 3",
   "language": "python",
   "name": "python3"
  },
  "language_info": {
   "codemirror_mode": {
    "name": "ipython",
    "version": 3
   },
   "file_extension": ".py",
   "mimetype": "text/x-python",
   "name": "python",
   "nbconvert_exporter": "python",
   "pygments_lexer": "ipython3",
   "version": "3.9.5"
  }
 },
 "nbformat": 4,
 "nbformat_minor": 4
}
